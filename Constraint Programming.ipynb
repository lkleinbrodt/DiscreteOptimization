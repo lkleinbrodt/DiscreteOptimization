{
 "cells": [
  {
   "cell_type": "markdown",
   "source": [
    "# Constraint Programming\n",
    "\n",
    "**Intuition: Use constraints to reduce the set of values that each variable can take, and Remove values that cannot appear in any solution** Then make a choice when no more deduction can be performend, rinse and repeat.\n",
    "\n",
    "(compare this to branch and bound, which prunes the search space based on the objective function, not the variables. So this is orthagonal to that approach)\n",
    "\n",
    "**Modeling Methodology**\n",
    "- You want to give the solver as much of the problem as possible, the structure of it. Dont go low level.\n",
    "- Have building blocks to your structure\n",
    "\n",
    "## \"Branch and Prune\"\n",
    "- Branch: decompose problem into subproblems and explore them\n",
    "- Prune: reduces the search space as much as possible\n",
    "    - uses constraints to remove from the VARIABLE domains, not from possible objective values\n",
    "\n",
    "It's a **complete method, not a heuristic**\n",
    "- given enough time, it will find an optimal solution\n",
    "\n",
    "The focus is on feasible, how to use variable constraints to determine what is feasible (compare to branch and bound, which is all about relaxing / finding which solutions would be inferior)\n",
    "\n",
    "## Propagation engine\n",
    "- Core of any CP solver\n",
    "- a simple (fixpoint) algorithm\n",
    "- if infeasible? return failure, else, apply pruning algorithm until no constraint can remove any value, (then you need to test that one)"
   ],
   "metadata": {}
  },
  {
   "cell_type": "markdown",
   "source": [
    "# Example Problems:\n",
    "\n",
    "## The 8 Queens Problem:\n",
    "- Place 8 queens on a chessboard so that none of them attack eachother (same row, column or diagonal)\n",
    "\n",
    "- You place one. You can then eliminate all of that row/column/diagonal. \n",
    "- You have choices for the next one, so repeat\n",
    "- You can combine with branch and bound, for example if you have a column with only 1 available space left, you KNOW a queen has to go there (b/c 8 columns 8 queens)\n",
    "- Continue this way until you prove feasible/infeasible, then go back and try different choices\n",
    "\n",
    "Many possible modelings to this problem, here's one approach:\n",
    "\n",
    "Associate a decision variable with each column\n",
    "- The variable denotes the ROW of the queen in that column\n",
    "\n",
    "Three constraints:\n",
    "- queens cannot be placed on same row or diagonal\n",
    "    - So you need to say that row/diag of decision var 1 (col 1) does not equal row/diag of the others\n",
    "\n",
    "\n",
    "## Coloring a Map\n",
    "\n",
    "Color a map so that two adjacent territories cannot have the same color\n",
    "\n",
    "How:\n",
    "- Choose decision variables\n",
    "    - The color given to each country\n",
    "- Express the constraints\n",
    "    - What's the domain? the set of values a variable can take, the four different colors\n",
    "    - How do you express? specificy that two adjacent countries cannot have same color (color['G']!=color['B'])"
   ],
   "metadata": {}
  },
  {
   "cell_type": "markdown",
   "source": [
    "# Illustrating More Complex CP\n",
    "\n",
    "Important! Every single constraint has its OWN algorithm that will check feasibility and prune\n",
    "- Feasibility: can a constraint be satifisfied given the values in the domains of the variables\n",
    "- Pruning: if satisfiable, determine which values in the dommain cannot be a part of any solution\n",
    "\n",
    "Each algorithm exploits the structure and properties of its constraint\n",
    "\n",
    "Send More Money example\n",
    "\n"
   ],
   "metadata": {}
  },
  {
   "cell_type": "markdown",
   "source": [
    "## Linear Constraints over Integers\n",
    "\n",
    "Consider the constraint:\n",
    "\n",
    "a_1*x_1 + ... + a_n*x_n >= b_1*y_1 + ... + b_m*y_m\n",
    "\n",
    "a_i, b_j >= 0 are constants\n",
    "\n",
    "x_i, y_j are variables in domain Dx, Dy\n",
    "\n",
    "First you need to test if it's feasible:\n",
    "\n",
    "You want to check the left hand side and make it as large as possible and the right side and make it as small as possible. And if those values dont work, then you know it's infeasible.\n",
    "\n",
    "a_1 * max(D(x_1)) + ... >= b_1 * min(D(y_1)) + ...\n",
    "\n",
    "let L = max of left side and R = min of right side\n",
    "\n",
    "Pruning Algorithm:\n",
    "\n",
    "a_i*x_i >= r - (L - a_i * max(D(x_i)))\n",
    "\n",
    "therefore: \n",
    "\n",
    "x_i >= ceiling(  (r - (L - a_i*max(D(x_i)))) / a_i )\n",
    "\n",
    "y_i is the same but with l and r switched (and using min), and you use the FLOOR"
   ],
   "metadata": {}
  },
  {
   "cell_type": "markdown",
   "source": [
    "# Modeling Language of Constraint Programming\n",
    "\n",
    "## Key Aspect: Ability to state complex, idiosyncratic constraints"
   ],
   "metadata": {}
  },
  {
   "cell_type": "markdown",
   "source": [
    "### Magic Series\n",
    "\n",
    "a Series is magic if S_i represents the number of occurences of i in S\n",
    "\n",
    "S = 2, 1, 2, 0, 0\n",
    "(two occurences of 0, 1 occurence of 1, 2 occurences of 2, and 0 and 0 of 3 and 4)\n",
    "\n",
    "Can you find magic series?\n",
    "\n",
    "```\n",
    "int n = 5;\n",
    "range D = 0...n-1\n",
    "var{int} series[D] in D;\n",
    "solve {\n",
    "    forall(k in D)\n",
    "        series[k] = sum(series[i]=k for (all i in D)\n",
    "}\n",
    "```\n",
    "\n",
    "# Reification: ability to transform a constraint into a 0/1 variables\n",
    "(1 if constraint is true, 0 otherwise)\n",
    "\n",
    "System of constraint equations:\n",
    "\n",
    "series[0] = (series[0]==0)+(series[1]==0) + ...\n",
    "\n",
    "series[1] = (series[0]==1)+...\n",
    "\n",
    "So what if series[0]=1?\n",
    "    You can sub that for your system of equations, reduce, and repeat"
   ],
   "metadata": {}
  },
  {
   "cell_type": "markdown",
   "source": [
    "# Global Constraints\n",
    "\n",
    "Capture combinatorial substructures arising in many applications"
   ],
   "metadata": {}
  },
  {
   "cell_type": "markdown",
   "source": [
    "# Symmetries\n",
    "\n",
    "Many problems naturally exhibit symmetries. Exploring symmetrical parts are useless.\n",
    "\n",
    "Many kinds of symmetries (here are 2):\n",
    "- Variable Symmetries\n",
    "- Value Symmetries\n",
    "\n",
    "We'll focus on symmetry-breaking constraints (there are many ways of dealing with constraints)\n",
    "\n",
    "## Example: Balanced Incomplete Block Designs\n",
    "\n",
    "Input: (v,b,r,k,l)\n",
    "\n",
    "Output: a v by b binary matrix with exactly r ones per row, k ones per column, and a scalar product of value l\n",
    "\n",
    "Plenty of symmetries, if you have a solution, you can swap any two rows or any two columns and still have a solution.\n",
    "\n",
    "So we dont need to explore all those variations.\n",
    "\n",
    "How to break variable symmetries:: Impose an ORDERING on the variables\n",
    "\n",
    "Consider the row symmetries:\n",
    "- Impose a lexicographical constraint\n",
    "- In this example, row A is lexo. smaller than B if the most significant value (first ones) are smaller than B\n",
    "\n",
    "Ex: 0110010 is smaller than 1010100. and 1110010 is bigger than 1010100\n",
    "\n",
    "\n",
    "\n"
   ],
   "metadata": {}
  },
  {
   "cell_type": "markdown",
   "source": [],
   "metadata": {}
  },
  {
   "cell_type": "markdown",
   "source": [
    "# Redundant Constraints\n",
    "\n",
    "They are semantically redundant (do not exclude any solution)\n",
    "\n",
    "but they are computationally significant (reduce the search space)\n",
    "\n",
    "In Constraint programming, you generally want as many constraints as possible\n",
    "\n",
    "\"Can you find a PROPERTY of the solution?\"\n",
    "\n",
    "\n",
    "\n",
    "--- \n",
    "\n",
    "Surrogate Constraints\n",
    "\n",
    "(Make up new constraints that are basically just a combination of existing constraints.)"
   ],
   "metadata": {}
  },
  {
   "cell_type": "markdown",
   "source": [],
   "metadata": {}
  }
 ],
 "metadata": {
  "interpreter": {
   "hash": "af409aec82340d0669463323393db2ed8f39f0c33bf641bb1029a7c6c279d84e"
  },
  "kernelspec": {
   "display_name": "Python 3.7.5 64-bit ('PSS': conda)",
   "name": "python3"
  },
  "language_info": {
   "name": "python",
   "version": ""
  },
  "orig_nbformat": 4
 },
 "nbformat": 4,
 "nbformat_minor": 2
}